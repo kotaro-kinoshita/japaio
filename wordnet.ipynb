{
 "cells": [
  {
   "cell_type": "code",
   "execution_count": 3,
   "metadata": {},
   "outputs": [],
   "source": [
    "import sqlite3\n",
    "from contextlib import closing\n",
    "\n",
    "def load_table(path_corpus, table_name, condition):\n",
    "    with closing(sqlite3.connect(path_corpus)) as conn:\n",
    "        c = conn.cursor()\n",
    "        res = c.execute('SELECT * FROM {} WHERE {}'.format(table_name, condition))\n",
    "        return list(res)\n",
    "    \n",
    "path_corpus = 'resources/corpus/wnjpn.db'\n",
    "out_path = \"resources/wordnet_eng.txt\"\n",
    "\n",
    "table = load_table(path_corpus, 'word', 'lang = \"eng\"')\n",
    "\n",
    "for row in table:\n",
    "    with open(out_path, 'a') as f:\n",
    "        f.write(row[2] + '\\n')\n",
    "    "
   ]
  },
  {
   "cell_type": "code",
   "execution_count": 1,
   "metadata": {},
   "outputs": [
    {
     "name": "stderr",
     "output_type": "stream",
     "text": [
      "/tmp/ipykernel_5146/3280825006.py:3: DtypeWarning: Columns (16,27) have mixed types. Specify dtype option on import or set low_memory=False.\n",
      "  df = pd.read_csv(\"00_zenkoku_all_20231130.csv\", header=None)\n"
     ]
    }
   ],
   "source": [
    "import pandas as pd\n",
    "\n",
    "df = pd.read_csv(\"00_zenkoku_all_20231130.csv\", header=None)"
   ]
  },
  {
   "cell_type": "code",
   "execution_count": 3,
   "metadata": {},
   "outputs": [
    {
     "ename": "TypeError",
     "evalue": "sequence item 2: expected str instance, float found",
     "output_type": "error",
     "traceback": [
      "\u001b[0;31m---------------------------------------------------------------------------\u001b[0m",
      "\u001b[0;31mTypeError\u001b[0m                                 Traceback (most recent call last)",
      "Cell \u001b[0;32mIn[3], line 6\u001b[0m\n\u001b[1;32m      4\u001b[0m \u001b[39mfor\u001b[39;00m i, row \u001b[39min\u001b[39;00m df\u001b[39m.\u001b[39miterrows():\n\u001b[1;32m      5\u001b[0m     company \u001b[39m=\u001b[39m row[\u001b[39m6\u001b[39m]\n\u001b[0;32m----> 6\u001b[0m     address \u001b[39m=\u001b[39m \u001b[39m\"\u001b[39;49m\u001b[39m\"\u001b[39;49m\u001b[39m.\u001b[39;49mjoin(row[\u001b[39m9\u001b[39;49m:\u001b[39m12\u001b[39;49m])\n\u001b[1;32m      8\u001b[0m     \u001b[39mwith\u001b[39;00m \u001b[39mopen\u001b[39m(out_company, \u001b[39m'\u001b[39m\u001b[39ma\u001b[39m\u001b[39m'\u001b[39m) \u001b[39mas\u001b[39;00m f:\n\u001b[1;32m      9\u001b[0m         f\u001b[39m.\u001b[39mwrite(company \u001b[39m+\u001b[39m \u001b[39m'\u001b[39m\u001b[39m\\n\u001b[39;00m\u001b[39m'\u001b[39m)\n",
      "\u001b[0;31mTypeError\u001b[0m: sequence item 2: expected str instance, float found"
     ]
    }
   ],
   "source": [
    "import unicodedata\n",
    "\n",
    "out_company = \"resources/corpus/company.txt\"\n",
    "out_address = \"resources/corpus/address.txt\"\n",
    "\n",
    "for i, row in df.iterrows():\n",
    "    company = row[6]\n",
    "\n",
    "    address1 = row[9]\n",
    "    address2 = row[10]\n",
    "    address3 = row[11]\n",
    "\n",
    "    address = \"\"\n",
    "    address += address1 if type(address1) == str else \"\"\n",
    "    address += address2 if type(address2) == str else \"\"\n",
    "    address += address3 if type(address3) == str else \"\"\n",
    "    \n",
    "    company = unicodedata.normalize(\"NFKC\", company)\n",
    "    address = unicodedata.normalize(\"NFKC\", address)\n",
    "\n",
    "    with open(out_company, 'a') as f:\n",
    "        f.write(company + '\\n')\n",
    "\n",
    "    with open(out_address, 'a') as f:\n",
    "        f.write(address + '\\n')\n"
   ]
  },
  {
   "cell_type": "code",
   "execution_count": null,
   "metadata": {},
   "outputs": [],
   "source": []
  }
 ],
 "metadata": {
  "kernelspec": {
   "display_name": "Python 3",
   "language": "python",
   "name": "python3"
  },
  "language_info": {
   "codemirror_mode": {
    "name": "ipython",
    "version": 3
   },
   "file_extension": ".py",
   "mimetype": "text/x-python",
   "name": "python",
   "nbconvert_exporter": "python",
   "pygments_lexer": "ipython3",
   "version": "3.9.15"
  },
  "orig_nbformat": 4
 },
 "nbformat": 4,
 "nbformat_minor": 2
}
